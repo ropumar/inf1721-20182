{
 "cells": [
  {
   "cell_type": "markdown",
   "metadata": {},
   "source": [
    "kthSmallest(arr[0..n-1], k)\n",
    "\n",
    "\n",
    "1) Divide arr[] into ⌈n/5⌉ groups where size of each group is 5 \n",
    "   except possibly the last group which may have less than 5 elements.  \n",
    "\n",
    "2) Sort the above created ⌈n/5⌉ groups and find median \n",
    "   of all groups. Create an auxiliary array 'median[]' and store medians \n",
    "   of all ⌈n/5⌉ groups in this median array.\n",
    "\n",
    "// Recursively call this method to find median of median[0..⌈n/5⌉-1]\n",
    "3) medOfMed = kthSmallest(median[0..⌈n/5⌉-1], ⌈n/10⌉)\n",
    "\n",
    "4) Partition arr[] around medOfMed and obtain its position.\n",
    "     pos = partition(arr, n, medOfMed)\n",
    "\n",
    "5) If pos == k return medOfMed \n",
    "\n",
    "6) If pos > k return kthSmallest(arr[l..pos-1], k) \n",
    "\n",
    "7) If pos < k return kthSmallest(arr[pos+1..r], k-pos+l-1)"
   ]
  },
  {
   "cell_type": "code",
   "execution_count": 1,
   "metadata": {
    "collapsed": true
   },
   "outputs": [],
   "source": [
    "import random\n",
    "import time"
   ]
  },
  {
   "cell_type": "code",
   "execution_count": 23,
   "metadata": {},
   "outputs": [],
   "source": [
    "\n",
    "def selectMedian(thelist):\n",
    "    sorted_list = sorted(thelist)\n",
    "    length = len(sorted_list)\n",
    "    center= length// 2\n",
    "    if length == 1:\n",
    "        return int(sorted_list[0])\n",
    "    elif length == 2:\n",
    "        return int(sorted_list[1])\n",
    "    elif length == 3:\n",
    "        return int(sorted_list[1])\n",
    "    elif length == 4:\n",
    "        return int(sorted_list[2])\n",
    "    elif length == 5:\n",
    "        return int(sorted_list[2])\n",
    "\n",
    "\n",
    "def linearSelection(lst, l, r, k):\n",
    "    if (k > 0 and k <= r - l + 1):\n",
    "        n = r-l+1 # Number of elements in lst[l..r]\n",
    "\n",
    "        # Divide lst[] in groups of size 5, calculate median of every group and store it in median[].\n",
    "        median = [0]*int((n+4)/5) #// There will be floor((n+4)/5) groups;\n",
    "        #print(\"Floor: \" + str(int((n+4)/5)))\n",
    "        fat = 5\n",
    "        i = 0\n",
    "        while i < int(n/5):\n",
    "            #print (int(n/5))\n",
    "            median[i] = selectMedian(lst[fat-5:fat])\n",
    "            print(\"Median teste\", median[i])\n",
    "            #print(median)\n",
    "            #print(lst[fat-5:fat])\n",
    "            fat = fat + 5\n",
    "            i = i + 1\n",
    "        if i*5 < n: #//For last group with less than 5 elements\n",
    "            print(\"outro caso\")\n",
    "            #print('I',i)\n",
    "            median[i] = selectMedian(lst[fat-5:])\n",
    "            print(\"Median teste \", median[i])\n",
    "            #print(median)\n",
    "            #print(lst[fat-5:])\n",
    "            i = i + 1\n",
    "        if i == 1:\n",
    "            medMed = median[i-1]\n",
    "        else:\n",
    "            medMed = linearSelection(median, 0, i-1, i/2)\n",
    "\n",
    "        #// Partition the list around a random element and get position of pivot element in sorted list\n",
    "        lst, pos = partition(lst, l, r, medMed)\n",
    "        #print('Part\\t',pos)\n",
    "\n",
    "        #// If position is same as k\n",
    "        if (pos-l == k-1):\n",
    "            return lst[pos]\n",
    "        if (pos-l > k-1): #// If position is more, recur for left\n",
    "            return linearSelection(lst, l, pos-1, k)\n",
    "\n",
    "        #// Else recur for right sublist\n",
    "        return linearSelection(lst, pos+1, r, k-pos+l-1)\n",
    "    return -1\n",
    "\n",
    "def swap(lst, x, y):\n",
    "    aux = lst[x]\n",
    "    lst[x] = lst[y]\n",
    "    lst[y] = aux\n",
    "    return lst\n",
    "\n",
    "def partition(lst, l, r, x):\n",
    "    i = l\n",
    "    while i < r:\n",
    "        if (lst[i] == x):\n",
    "            break\n",
    "        i = i + 1\n",
    "    lst = swap(lst, i, r)\n",
    "    i = l\n",
    "    j = l\n",
    "    while j <= r - 1: \n",
    "        if (lst[j] <= x):\n",
    "            lst = swap(lst, i, j)\n",
    "            i = i + 1\n",
    "        j = j + 1\n",
    "\n",
    "    lst = swap(lst, i, r)\n",
    "    return lst, i\n",
    "\n",
    "\n",
    "def main():\n",
    "    lst = [12, 3, 5, 7, 4, 19, 26, 1, 2, 66, 43, 90, 100, 33, 13, 88 , 103]\n",
    "    #lst = [12, 3, 5, 7, 4, 19, 26]\n",
    "    n = len(lst)\n",
    "    #print(n)\n",
    "    k = 6\n",
    "    print(\"K smallest element is \")\n",
    "    return linearSelection(lst, 0, n-1, k)"
   ]
  },
  {
   "cell_type": "code",
   "execution_count": 24,
   "metadata": {
    "scrolled": false
   },
   "outputs": [
    {
     "name": "stdout",
     "output_type": "stream",
     "text": [
      "K smallest element is \n",
      "Median teste 5\n",
      "Median teste 19\n",
      "Median teste 43\n",
      "outro caso\n",
      "Median teste  103\n",
      "outro caso\n",
      "Median teste  43\n",
      "outro caso\n",
      "Median teste  43\n",
      "Median teste 5\n",
      "outro caso\n",
      "Median teste  None\n",
      "outro caso\n"
     ]
    },
    {
     "ename": "TypeError",
     "evalue": "'<' not supported between instances of 'NoneType' and 'int'",
     "output_type": "error",
     "traceback": [
      "\u001b[1;31m---------------------------------------------------------------------------\u001b[0m",
      "\u001b[1;31mTypeError\u001b[0m                                 Traceback (most recent call last)",
      "\u001b[1;32m<ipython-input-24-58ca95c5b364>\u001b[0m in \u001b[0;36m<module>\u001b[1;34m()\u001b[0m\n\u001b[1;32m----> 1\u001b[1;33m \u001b[0mmain\u001b[0m\u001b[1;33m(\u001b[0m\u001b[1;33m)\u001b[0m\u001b[1;33m\u001b[0m\u001b[0m\n\u001b[0m",
      "\u001b[1;32m<ipython-input-23-f239cfc7d1b7>\u001b[0m in \u001b[0;36mmain\u001b[1;34m()\u001b[0m\n\u001b[0;32m     92\u001b[0m     \u001b[0mk\u001b[0m \u001b[1;33m=\u001b[0m \u001b[1;36m6\u001b[0m\u001b[1;33m\u001b[0m\u001b[0m\n\u001b[0;32m     93\u001b[0m     \u001b[0mprint\u001b[0m\u001b[1;33m(\u001b[0m\u001b[1;34m\"K smallest element is \"\u001b[0m\u001b[1;33m)\u001b[0m\u001b[1;33m\u001b[0m\u001b[0m\n\u001b[1;32m---> 94\u001b[1;33m     \u001b[1;32mreturn\u001b[0m \u001b[0mlinearSelection\u001b[0m\u001b[1;33m(\u001b[0m\u001b[0mlst\u001b[0m\u001b[1;33m,\u001b[0m \u001b[1;36m0\u001b[0m\u001b[1;33m,\u001b[0m \u001b[0mn\u001b[0m\u001b[1;33m-\u001b[0m\u001b[1;36m1\u001b[0m\u001b[1;33m,\u001b[0m \u001b[0mk\u001b[0m\u001b[1;33m)\u001b[0m\u001b[1;33m\u001b[0m\u001b[0m\n\u001b[0m",
      "\u001b[1;32m<ipython-input-23-f239cfc7d1b7>\u001b[0m in \u001b[0;36mlinearSelection\u001b[1;34m(lst, l, r, k)\u001b[0m\n\u001b[0;32m     54\u001b[0m             \u001b[1;32mreturn\u001b[0m \u001b[0mlst\u001b[0m\u001b[1;33m[\u001b[0m\u001b[0mpos\u001b[0m\u001b[1;33m]\u001b[0m\u001b[1;33m\u001b[0m\u001b[0m\n\u001b[0;32m     55\u001b[0m         \u001b[1;32mif\u001b[0m \u001b[1;33m(\u001b[0m\u001b[0mpos\u001b[0m\u001b[1;33m-\u001b[0m\u001b[0ml\u001b[0m \u001b[1;33m>\u001b[0m \u001b[0mk\u001b[0m\u001b[1;33m-\u001b[0m\u001b[1;36m1\u001b[0m\u001b[1;33m)\u001b[0m\u001b[1;33m:\u001b[0m \u001b[1;31m#// If position is more, recur for left\u001b[0m\u001b[1;33m\u001b[0m\u001b[0m\n\u001b[1;32m---> 56\u001b[1;33m             \u001b[1;32mreturn\u001b[0m \u001b[0mlinearSelection\u001b[0m\u001b[1;33m(\u001b[0m\u001b[0mlst\u001b[0m\u001b[1;33m,\u001b[0m \u001b[0ml\u001b[0m\u001b[1;33m,\u001b[0m \u001b[0mpos\u001b[0m\u001b[1;33m-\u001b[0m\u001b[1;36m1\u001b[0m\u001b[1;33m,\u001b[0m \u001b[0mk\u001b[0m\u001b[1;33m)\u001b[0m\u001b[1;33m\u001b[0m\u001b[0m\n\u001b[0m\u001b[0;32m     57\u001b[0m \u001b[1;33m\u001b[0m\u001b[0m\n\u001b[0;32m     58\u001b[0m         \u001b[1;31m#// Else recur for right sublist\u001b[0m\u001b[1;33m\u001b[0m\u001b[1;33m\u001b[0m\u001b[0m\n",
      "\u001b[1;32m<ipython-input-23-f239cfc7d1b7>\u001b[0m in \u001b[0;36mlinearSelection\u001b[1;34m(lst, l, r, k)\u001b[0m\n\u001b[0;32m     44\u001b[0m             \u001b[0mmedMed\u001b[0m \u001b[1;33m=\u001b[0m \u001b[0mmedian\u001b[0m\u001b[1;33m[\u001b[0m\u001b[0mi\u001b[0m\u001b[1;33m-\u001b[0m\u001b[1;36m1\u001b[0m\u001b[1;33m]\u001b[0m\u001b[1;33m\u001b[0m\u001b[0m\n\u001b[0;32m     45\u001b[0m         \u001b[1;32melse\u001b[0m\u001b[1;33m:\u001b[0m\u001b[1;33m\u001b[0m\u001b[0m\n\u001b[1;32m---> 46\u001b[1;33m             \u001b[0mmedMed\u001b[0m \u001b[1;33m=\u001b[0m \u001b[0mlinearSelection\u001b[0m\u001b[1;33m(\u001b[0m\u001b[0mmedian\u001b[0m\u001b[1;33m,\u001b[0m \u001b[1;36m0\u001b[0m\u001b[1;33m,\u001b[0m \u001b[0mi\u001b[0m\u001b[1;33m-\u001b[0m\u001b[1;36m1\u001b[0m\u001b[1;33m,\u001b[0m \u001b[0mi\u001b[0m\u001b[1;33m/\u001b[0m\u001b[1;36m2\u001b[0m\u001b[1;33m)\u001b[0m\u001b[1;33m\u001b[0m\u001b[0m\n\u001b[0m\u001b[0;32m     47\u001b[0m \u001b[1;33m\u001b[0m\u001b[0m\n\u001b[0;32m     48\u001b[0m         \u001b[1;31m#// Partition the list around a random element and get position of pivot element in sorted list\u001b[0m\u001b[1;33m\u001b[0m\u001b[1;33m\u001b[0m\u001b[0m\n",
      "\u001b[1;32m<ipython-input-23-f239cfc7d1b7>\u001b[0m in \u001b[0;36mlinearSelection\u001b[1;34m(lst, l, r, k)\u001b[0m\n\u001b[0;32m     36\u001b[0m             \u001b[0mprint\u001b[0m\u001b[1;33m(\u001b[0m\u001b[1;34m\"outro caso\"\u001b[0m\u001b[1;33m)\u001b[0m\u001b[1;33m\u001b[0m\u001b[0m\n\u001b[0;32m     37\u001b[0m             \u001b[1;31m#print('I',i)\u001b[0m\u001b[1;33m\u001b[0m\u001b[1;33m\u001b[0m\u001b[0m\n\u001b[1;32m---> 38\u001b[1;33m             \u001b[0mmedian\u001b[0m\u001b[1;33m[\u001b[0m\u001b[0mi\u001b[0m\u001b[1;33m]\u001b[0m \u001b[1;33m=\u001b[0m \u001b[0mselectMedian\u001b[0m\u001b[1;33m(\u001b[0m\u001b[0mlst\u001b[0m\u001b[1;33m[\u001b[0m\u001b[0mfat\u001b[0m\u001b[1;33m-\u001b[0m\u001b[1;36m5\u001b[0m\u001b[1;33m:\u001b[0m\u001b[1;33m]\u001b[0m\u001b[1;33m)\u001b[0m\u001b[1;33m\u001b[0m\u001b[0m\n\u001b[0m\u001b[0;32m     39\u001b[0m             \u001b[0mprint\u001b[0m\u001b[1;33m(\u001b[0m\u001b[1;34m\"Median teste \"\u001b[0m\u001b[1;33m,\u001b[0m \u001b[0mmedian\u001b[0m\u001b[1;33m[\u001b[0m\u001b[0mi\u001b[0m\u001b[1;33m]\u001b[0m\u001b[1;33m)\u001b[0m\u001b[1;33m\u001b[0m\u001b[0m\n\u001b[0;32m     40\u001b[0m             \u001b[1;31m#print(median)\u001b[0m\u001b[1;33m\u001b[0m\u001b[1;33m\u001b[0m\u001b[0m\n",
      "\u001b[1;32m<ipython-input-23-f239cfc7d1b7>\u001b[0m in \u001b[0;36mselectMedian\u001b[1;34m(thelist)\u001b[0m\n\u001b[0;32m      1\u001b[0m \u001b[1;33m\u001b[0m\u001b[0m\n\u001b[0;32m      2\u001b[0m \u001b[1;32mdef\u001b[0m \u001b[0mselectMedian\u001b[0m\u001b[1;33m(\u001b[0m\u001b[0mthelist\u001b[0m\u001b[1;33m)\u001b[0m\u001b[1;33m:\u001b[0m\u001b[1;33m\u001b[0m\u001b[0m\n\u001b[1;32m----> 3\u001b[1;33m     \u001b[0msorted_list\u001b[0m \u001b[1;33m=\u001b[0m \u001b[0msorted\u001b[0m\u001b[1;33m(\u001b[0m\u001b[0mthelist\u001b[0m\u001b[1;33m)\u001b[0m\u001b[1;33m\u001b[0m\u001b[0m\n\u001b[0m\u001b[0;32m      4\u001b[0m     \u001b[0mlength\u001b[0m \u001b[1;33m=\u001b[0m \u001b[0mlen\u001b[0m\u001b[1;33m(\u001b[0m\u001b[0msorted_list\u001b[0m\u001b[1;33m)\u001b[0m\u001b[1;33m\u001b[0m\u001b[0m\n\u001b[0;32m      5\u001b[0m     \u001b[0mcenter\u001b[0m\u001b[1;33m=\u001b[0m \u001b[0mlength\u001b[0m\u001b[1;33m//\u001b[0m \u001b[1;36m2\u001b[0m\u001b[1;33m\u001b[0m\u001b[0m\n",
      "\u001b[1;31mTypeError\u001b[0m: '<' not supported between instances of 'NoneType' and 'int'"
     ]
    }
   ],
   "source": [
    "main()"
   ]
  },
  {
   "cell_type": "code",
   "execution_count": null,
   "metadata": {
    "collapsed": true
   },
   "outputs": [],
   "source": []
  },
  {
   "cell_type": "code",
   "execution_count": null,
   "metadata": {
    "collapsed": true
   },
   "outputs": [],
   "source": []
  },
  {
   "cell_type": "code",
   "execution_count": 7,
   "metadata": {
    "collapsed": true
   },
   "outputs": [],
   "source": [
    "def mergeSort(alist):\n",
    "    #print(\"Splitting \",alist)\n",
    "    if len(alist)>1:\n",
    "        mid = len(alist)//2\n",
    "        lefthalf = alist[:mid]\n",
    "        righthalf = alist[mid:]\n",
    "\n",
    "        mergeSort(lefthalf)\n",
    "        mergeSort(righthalf)\n",
    "\n",
    "        i=0\n",
    "        j=0\n",
    "        k=0\n",
    "        while i < len(lefthalf) and j < len(righthalf):\n",
    "            if lefthalf[i] < righthalf[j]:\n",
    "                alist[k]=lefthalf[i]\n",
    "                i=i+1\n",
    "            else:\n",
    "                alist[k]=righthalf[j]\n",
    "                j=j+1\n",
    "            k=k+1\n",
    "\n",
    "        while i < len(lefthalf):\n",
    "            alist[k]=lefthalf[i]\n",
    "            i=i+1\n",
    "            k=k+1\n",
    "\n",
    "        while j < len(righthalf):\n",
    "            alist[k]=righthalf[j]\n",
    "            j=j+1\n",
    "            k=k+1\n",
    "    #print(\"Merging \",alist)\n",
    "    return  alist\n",
    "\n",
    "def sortSelection(A, k):\n",
    "    A = mergeSort(A)\n",
    "    return A[k-1]"
   ]
  },
  {
   "cell_type": "code",
   "execution_count": null,
   "metadata": {
    "collapsed": true
   },
   "outputs": [],
   "source": []
  },
  {
   "cell_type": "code",
   "execution_count": 6,
   "metadata": {},
   "outputs": [
    {
     "name": "stdout",
     "output_type": "stream",
     "text": [
      "linearSelection\n",
      "Median  34872\n",
      "Median  40871\n"
     ]
    },
    {
     "ename": "IndexError",
     "evalue": "list assignment index out of range",
     "output_type": "error",
     "traceback": [
      "\u001b[1;31m---------------------------------------------------------------------------\u001b[0m",
      "\u001b[1;31mIndexError\u001b[0m                                Traceback (most recent call last)",
      "\u001b[1;32m<ipython-input-6-6609b75cb649>\u001b[0m in \u001b[0;36m<module>\u001b[1;34m()\u001b[0m\n\u001b[0;32m     30\u001b[0m     \u001b[0mprint\u001b[0m\u001b[1;33m\u001b[0m\u001b[0m\n\u001b[0;32m     31\u001b[0m     \u001b[0mprint\u001b[0m \u001b[1;33m(\u001b[0m\u001b[0mlst_time_sort\u001b[0m\u001b[1;33m)\u001b[0m\u001b[1;33m\u001b[0m\u001b[0m\n\u001b[1;32m---> 32\u001b[1;33m \u001b[0mtesteAlg\u001b[0m\u001b[1;33m(\u001b[0m\u001b[0mlistaDeTeste\u001b[0m\u001b[1;33m(\u001b[0m\u001b[1;33m)\u001b[0m\u001b[1;33m)\u001b[0m\u001b[1;33m\u001b[0m\u001b[0m\n\u001b[0m",
      "\u001b[1;32m<ipython-input-6-6609b75cb649>\u001b[0m in \u001b[0;36mtesteAlg\u001b[1;34m(lst)\u001b[0m\n\u001b[0;32m     18\u001b[0m         \u001b[0mprint\u001b[0m\u001b[1;33m(\u001b[0m\u001b[1;34m'linearSelection'\u001b[0m\u001b[1;33m)\u001b[0m\u001b[1;33m\u001b[0m\u001b[0m\n\u001b[0;32m     19\u001b[0m         \u001b[0mlst_time_linear\u001b[0m\u001b[1;33m[\u001b[0m\u001b[0mi\u001b[0m\u001b[1;33m]\u001b[0m \u001b[1;33m=\u001b[0m \u001b[0mtime\u001b[0m\u001b[1;33m.\u001b[0m\u001b[0mtime\u001b[0m\u001b[1;33m(\u001b[0m\u001b[1;33m)\u001b[0m\u001b[1;33m\u001b[0m\u001b[0m\n\u001b[1;32m---> 20\u001b[1;33m         \u001b[0mprint\u001b[0m\u001b[1;33m(\u001b[0m\u001b[0mlinearSelection\u001b[0m\u001b[1;33m(\u001b[0m\u001b[0mlst\u001b[0m\u001b[1;33m[\u001b[0m\u001b[0mi\u001b[0m\u001b[1;33m]\u001b[0m\u001b[1;33m,\u001b[0m \u001b[1;36m0\u001b[0m\u001b[1;33m,\u001b[0m \u001b[0mlen\u001b[0m\u001b[1;33m(\u001b[0m\u001b[0mlst\u001b[0m\u001b[1;33m)\u001b[0m\u001b[1;33m-\u001b[0m\u001b[1;36m1\u001b[0m\u001b[1;33m,\u001b[0m \u001b[1;36m4\u001b[0m\u001b[1;33m)\u001b[0m\u001b[1;33m)\u001b[0m\u001b[1;33m\u001b[0m\u001b[0m\n\u001b[0m\u001b[0;32m     21\u001b[0m         \u001b[0mlst_time_linear\u001b[0m\u001b[1;33m[\u001b[0m\u001b[0mi\u001b[0m\u001b[1;33m]\u001b[0m \u001b[1;33m=\u001b[0m \u001b[0mtime\u001b[0m\u001b[1;33m.\u001b[0m\u001b[0mtime\u001b[0m\u001b[1;33m(\u001b[0m\u001b[1;33m)\u001b[0m \u001b[1;33m-\u001b[0m \u001b[0mlst_time_linear\u001b[0m\u001b[1;33m[\u001b[0m\u001b[0mi\u001b[0m\u001b[1;33m]\u001b[0m\u001b[1;33m\u001b[0m\u001b[0m\n\u001b[0;32m     22\u001b[0m \u001b[1;33m\u001b[0m\u001b[0m\n",
      "\u001b[1;32m<ipython-input-2-f5e71f17ade4>\u001b[0m in \u001b[0;36mlinearSelection\u001b[1;34m(lst, l, r, k)\u001b[0m\n\u001b[0;32m     27\u001b[0m         \u001b[1;32mwhile\u001b[0m \u001b[0mi\u001b[0m \u001b[1;33m<=\u001b[0m \u001b[0mint\u001b[0m\u001b[1;33m(\u001b[0m\u001b[0mn\u001b[0m\u001b[1;33m/\u001b[0m\u001b[1;36m5\u001b[0m\u001b[1;33m)\u001b[0m\u001b[1;33m:\u001b[0m\u001b[1;33m\u001b[0m\u001b[0m\n\u001b[0;32m     28\u001b[0m             \u001b[1;31m#print (int(n/5))\u001b[0m\u001b[1;33m\u001b[0m\u001b[1;33m\u001b[0m\u001b[0m\n\u001b[1;32m---> 29\u001b[1;33m             \u001b[0mmedian\u001b[0m\u001b[1;33m[\u001b[0m\u001b[0mi\u001b[0m\u001b[1;33m]\u001b[0m \u001b[1;33m=\u001b[0m \u001b[0mselectMedian\u001b[0m\u001b[1;33m(\u001b[0m\u001b[0mlst\u001b[0m\u001b[1;33m[\u001b[0m\u001b[0mfat\u001b[0m\u001b[1;33m-\u001b[0m\u001b[1;36m5\u001b[0m\u001b[1;33m:\u001b[0m\u001b[0mfat\u001b[0m\u001b[1;33m]\u001b[0m\u001b[1;33m)\u001b[0m\u001b[1;33m\u001b[0m\u001b[0m\n\u001b[0m\u001b[0;32m     30\u001b[0m             \u001b[0mprint\u001b[0m\u001b[1;33m(\u001b[0m\u001b[1;34m\"Median \"\u001b[0m\u001b[1;33m,\u001b[0m \u001b[0mmedian\u001b[0m\u001b[1;33m[\u001b[0m\u001b[0mi\u001b[0m\u001b[1;33m]\u001b[0m\u001b[1;33m)\u001b[0m\u001b[1;33m\u001b[0m\u001b[0m\n\u001b[0;32m     31\u001b[0m             \u001b[1;31m#print(median)\u001b[0m\u001b[1;33m\u001b[0m\u001b[1;33m\u001b[0m\u001b[0m\n",
      "\u001b[1;31mIndexError\u001b[0m: list assignment index out of range"
     ]
    }
   ],
   "source": [
    "def listaDeTeste():\n",
    "    size_lst = 10\n",
    "    lst = [0]*size_lst\n",
    "    for i in range(10):\n",
    "        lst[i] = []\n",
    "        size_lst = 1000\n",
    "        for j in range(size_lst):\n",
    "            lst[i].append(random.randint(1,100000))\n",
    "        size_lst = size_lst + 1000\n",
    "    return lst\n",
    "\n",
    "def testeAlg(lst):\n",
    "    lst_time_linear = [0]*10\n",
    "    lst_time_sort = [0]*10\n",
    "    \n",
    "    lst_time_sort = [0]*10\n",
    "    for i in range(10):\n",
    "        print('linearSelection')\n",
    "        lst_time_linear[i] = time.time()\n",
    "        print(linearSelection(lst[i], 0, len(lst)-1, 4))\n",
    "        lst_time_linear[i] = time.time() - lst_time_linear[i]\n",
    "        \n",
    "        \n",
    "        lst_time_sort[i] = time.time()\n",
    "        print('sortSelection')\n",
    "        print(sortSelection(lst[i], 4))\n",
    "        lst_time_sort[i] = time.time() - lst_time_sort[i]\n",
    "        print\n",
    "    print (lst_time_linear)\n",
    "    print \n",
    "    print (lst_time_sort)\n",
    "testeAlg(listaDeTeste())"
   ]
  },
  {
   "cell_type": "code",
   "execution_count": null,
   "metadata": {
    "collapsed": true
   },
   "outputs": [],
   "source": []
  },
  {
   "cell_type": "code",
   "execution_count": null,
   "metadata": {
    "collapsed": true
   },
   "outputs": [],
   "source": []
  },
  {
   "cell_type": "code",
   "execution_count": null,
   "metadata": {
    "collapsed": true
   },
   "outputs": [],
   "source": []
  }
 ],
 "metadata": {
  "kernelspec": {
   "display_name": "Python 3",
   "language": "python",
   "name": "python3"
  },
  "language_info": {
   "codemirror_mode": {
    "name": "ipython",
    "version": 3
   },
   "file_extension": ".py",
   "mimetype": "text/x-python",
   "name": "python",
   "nbconvert_exporter": "python",
   "pygments_lexer": "ipython3",
   "version": "3.6.2"
  }
 },
 "nbformat": 4,
 "nbformat_minor": 2
}
